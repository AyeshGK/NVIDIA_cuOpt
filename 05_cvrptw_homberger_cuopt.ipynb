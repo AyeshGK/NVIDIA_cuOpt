{
 "cells": [
  {
   "cell_type": "markdown",
   "id": "8525bbdb",
   "metadata": {},
   "source": [
    "# <center><font color=#76B900><b>**Homberger problem with  NVIDIA cuOpt (Optional)**</b></font></center>\n",
    "---"
   ]
  },
  {
   "cell_type": "markdown",
   "id": "a10e05bc",
   "metadata": {},
   "source": [
    "**Learning Objectives:**\n",
    "- Demonstrate the ability of NVIDIA cuOpt to scale to the largest publicly available CVRPTW benchmark instances."
   ]
  },
  {
   "cell_type": "code",
   "execution_count": 1,
   "id": "47db0c3a",
   "metadata": {},
   "outputs": [],
   "source": [
    "import cudf\n",
    "from cuopt import routing\n",
    "from scipy.spatial import distance\n",
    "import numpy as np\n",
    "import pandas as pd\n",
    "import os\n",
    "import helper_function.helper_data as helper_data\n",
    "import helper_function.helper_map as helper_map"
   ]
  },
  {
   "cell_type": "markdown",
   "id": "d6675ed0",
   "metadata": {},
   "source": [
    "### **Extract Data**\n",
    "We have a built-in utility in NVIDIA cuOpt that reads and processes the instance file to return vehicle capacity, number of vehicles and a Cuda DataFrame containing the order information. This utility is specific to a Gehring & Homberger instance file."
   ]
  },
  {
   "cell_type": "code",
   "execution_count": 2,
   "id": "1ffe8d3e",
   "metadata": {},
   "outputs": [],
   "source": [
    "# Extract the data\n",
    "df, vehicle_capacity, n_vehicles = helper_data.read_data('/home/cuopt_user/data/homberger_1000_customer_instances/C1_10_1.TXT')"
   ]
  },
  {
   "cell_type": "markdown",
   "id": "d5d93351",
   "metadata": {},
   "source": [
    "#### Let us take a look at the extracted data"
   ]
  },
  {
   "cell_type": "code",
   "execution_count": 3,
   "id": "829b02bf",
   "metadata": {},
   "outputs": [
    {
     "name": "stdout",
     "output_type": "stream",
     "text": [
      "Number of locations          :  1000\n",
      "Number of vehicles available :  250\n",
      "Capacity of each vehicle     :  200\n",
      "Initial Orders information\n",
      "      vertex  xcord  ycord  demand  earliest_time  latest_time  service_time  \\\n",
      "0          0  250.0  250.0       0              0         1824             0   \n",
      "1          1  387.0  297.0      10            200          270            90   \n",
      "2          2    5.0  297.0      10            955         1017            90   \n",
      "3          3  355.0  177.0      20            194          245            90   \n",
      "4          4   78.0  346.0      30            355          403            90   \n",
      "...      ...    ...    ...     ...            ...          ...           ...   \n",
      "996      996  330.0  242.0      30            627          671            90   \n",
      "997      997  332.0  249.0      30             82          144            90   \n",
      "998      998  375.0   80.0      10            550          598            90   \n",
      "999      999   94.0  235.0      20            227          266            90   \n",
      "1000    1000  287.0  144.0      20            827          895            90   \n",
      "\n",
      "     pickup_index delivery_index  \n",
      "0            <NA>           <NA>  \n",
      "1            <NA>           <NA>  \n",
      "2            <NA>           <NA>  \n",
      "3            <NA>           <NA>  \n",
      "4            <NA>           <NA>  \n",
      "...           ...            ...  \n",
      "996          <NA>           <NA>  \n",
      "997          <NA>           <NA>  \n",
      "998          <NA>           <NA>  \n",
      "999          <NA>           <NA>  \n",
      "1000         <NA>           <NA>  \n",
      "\n",
      "[1001 rows x 9 columns]\n"
     ]
    }
   ],
   "source": [
    "print(\"Number of locations          : \", df[\"demand\"].shape[0]-1)\n",
    "print(\"Number of vehicles available : \", n_vehicles)\n",
    "print(\"Capacity of each vehicle     : \", vehicle_capacity)\n",
    "print(\"Initial Orders information\")\n",
    "print(df)"
   ]
  },
  {
   "cell_type": "markdown",
   "id": "9408880c",
   "metadata": {},
   "source": [
    "## **Let's Run NVIDIA cuOpt**"
   ]
  },
  {
   "cell_type": "markdown",
   "id": "a052866b",
   "metadata": {},
   "source": [
    "We have all our data ready, it's time to run NVIDIA cuOpt! But, before we launch NVIDIA cuOpt and get our optimized routes, let's dig a little deeper into the workflow step by step."
   ]
  },
  {
   "cell_type": "markdown",
   "id": "5f3f717c",
   "metadata": {},
   "source": [
    "### **Step 1: Get the cost matrix ready**\n",
    "To be able to find and optimize the routes for the vehicles, we first need to have information about the delivery locations and the distance between each location. This can either be provided as a cost matrix or a set of X and Y coordinates of all the locations.\n",
    "\n",
    "This function converts the X and Y coordinates from the dataset into a Euclidean distance matrix. Skip this step if you already have a cost matrix ready or want to initialize your data model directly with X and Y coordinates (We'll talk more on this later)"
   ]
  },
  {
   "cell_type": "code",
   "execution_count": 4,
   "id": "f35f7f3d",
   "metadata": {},
   "outputs": [],
   "source": [
    "# Build euclidean distance matrix from the x, y coordinates obtained from the dataset\n",
    "# This later helps in mapping.\n",
    "def build_matrix(df):\n",
    "    coords = list(zip(df['xcord'].to_arrow().to_pylist(),\n",
    "                      df['ycord'].to_arrow().to_pylist()))\n",
    "    distances = distance.cdist(coords, coords, 'euclidean')\n",
    "    return cudf.DataFrame(distances).astype(np.float32)"
   ]
  },
  {
   "cell_type": "markdown",
   "id": "7d9c4cc1",
   "metadata": {},
   "source": [
    "### **Step 2: Create the Data Model**\n",
    "First, we need to create and initialize the data model with the number of vehicles in the fleet and number of nodes (delivery locations) to be visited.\n",
    "Next, we need to provide the cost/distance information. This can be provided using add_cost_matrix.\n",
    "<br><br>\n",
    "\n",
    "* Adding cost matrix:\n",
    "\n",
    "<b>add_cost_matrix</b> takes in a square cost matrix containing the cost of travel which can be distance, time or any other metric, taken pairwise, between all locations.<details><summary>Read more</summary>\n",
    "<p>Diagonal elements should be 0.\n",
    "NVIDIA cuOpt supports unsymmetric matrices. However, we have restricted matrix support to only symmetric matrices for this demonstration.</p></details>\n",
    "<br>\n",
    "NVIDIA cuOpt also supports transit time matrix initialization with <b>add_transit_time_matrix</b>. This provides an option to add a secondary matrix, for example time matrix, that can be used to check constraints satisfiability. <details><summary>Read more</summary> <p>For instance, the matrix can be used to model the time between locations with time windows referring to it while the solver could optimize for distance.</p></details>\n",
    "<br>\n",
    "\n",
    "* Adding capacity constraints:\n",
    "\n",
    "A vehicle can have various capacity constraints like weight, volume and number of orders it can carry. To add these, we can use the <b>add_capacity_dimension</b> which takes in information regarding the demand value for each location and the capacity value for each vehicle in the fleet. NVIDIA cuOpt supports multiple capacity dimensions, however, we have restricted support to only single capacity dimension for this demonstration.\n",
    "\n",
    "<br>\n",
    "\n",
    "* Adding time constraints:\n",
    "\n",
    "Each order demand has a time slot for delivery i.e., a time constraint that denotes what is the earliest time and latest time the order needs to be delivered. It also specifies the service time i.e., the amount of time spent at each location for the delivery. These constraints can be added using <b>set_order_time_windows</b> which takes in the earliest time, latest time, service time for each delivery. We can additionally provide the penalties of each location allowing to model node priority.\n",
    "\n",
    "<br>\n",
    "<details><summary><b>More options</b></summary>\n",
    "<p>\n",
    "We can additionally set the vehicle priorities if desired using <b>set_vehicle_priorities</b> where 0 is the highest priority and INT_MAX is the lowest priority. <details><summary>Read more</summary> <p>Higher priority vehicles will be used before lower priority vehicles. The vehicle priorities are a hint to the solver, but the main goal is to minimize the number of vehicles. The size of this array must be equal to fleet_size.</p></details>\n",
    "\n",
    "Now consider an opposite scenario where we have more number of vehicles than required for delivery. By default, NVIDIA cuOpt minimizes the number of vehicles in its solution. However, if we have more vehicles available, why not use all of them? For this purpose, we can utilize the <b>set_min_vehicles</b> API to request a minimum number of vehicles in the solution although the resulting solution may not be optimal.\n",
    "    \n",
    "By default NVIDIA cuOpt includes the return trip back to depot in all computed routes. In certain situations, for example if we use contactor vehicles instead of store vehicles, we don't intend for the vehicle to return to the depot. In this case we can use the <b>set_drop_return_trips</b> to control if individual vehicles in the fleet return to the depot after the last stop.\n",
    "\n",
    "NVIDIA cuOpt also provides the flexibility of optimizing the routes for you if you have previously computed routes. This can be done by adding the initial solution via <b>add_initial_solution</b>\n",
    "\n",
    "We could also budget to let vehicles wait at locations up to a specified time with <b>set_max_slack_per_vehicle</b>. By default vehicles can wait an infinite amount of time.\n",
    "</p></details>"
   ]
  },
  {
   "cell_type": "code",
   "execution_count": 5,
   "id": "1041c418",
   "metadata": {},
   "outputs": [],
   "source": [
    "def data_model_initialization(df, nodes, n_vehicles, vehicle_priorities, vehicle_capacity):\n",
    "\n",
    "    my_data_model = routing.DataModel(nodes, n_vehicles)\n",
    "\n",
    "    # Add cost matrix information\n",
    "    distances = build_matrix(df)\n",
    "    my_data_model.add_cost_matrix(distances)\n",
    "\n",
    "    # Set vehicle priorities\n",
    "    if len(vehicle_priorities) > 0:\n",
    "        my_data_model.set_vehicle_priorities(vehicle_priorities)\n",
    "        \n",
    "    capacity = cudf.Series(vehicle_capacity)\n",
    "    \n",
    "    # Add capacity dimension\n",
    "    my_data_model.add_capacity_dimension(\"demand\", df['demand'], capacity)\n",
    "    \n",
    "    # Add delivery time windows\n",
    "    my_data_model.set_order_time_windows(df['earliest_time'], df['latest_time'])\n",
    "    my_data_model.set_order_service_times(df['service_time'])\n",
    "\n",
    "    return my_data_model"
   ]
  },
  {
   "cell_type": "markdown",
   "id": "ef86daa3",
   "metadata": {},
   "source": [
    "### **Step 3: Initialize and set up the Solver**\n",
    "Once we have our data model, we need to initialize our solver with the data model and solver constraints.\n",
    "\n",
    "<br>\n",
    "\n",
    "* Adding solver constraints:\n",
    "\n",
    "<b>set_number_of_climbers</b> can be used to set the number of climbers for the local search optimization. Number of climbers are number of instances trying to find solutions which start at different initial status. Hence, higher the number of climbers, higher the probability of getting better results in long run. <details><summary>Read more</summary>\n",
    "<p>However, if it is desired to have good results in a short time, lower number of climbers is better. By default, the number of climbers is chosen by considering occupancy of a small GPU and experimented run-time vs number of climbers trade-off (i.e. the best result in shortest time).</p></details>\n",
    "\n",
    "Solving time varies a lot with number of locations and default value may not be appropriate in some scenarios. So use <b>set_time_limit</b>, set a solving time and experiment with it, after a while cost of solution will converge. <details><summary>Read more</summary>\n",
    "<p>Higher the solving time, higher the accuracy. This may impact the accuracy. By default it is set to num_locations/5 by considering number of climbers vs run-time trade-off.</p></details>\n",
    "<br>\n",
    "\n",
    "<details><summary><b>More options</b></summary>\n",
    "<p>\n",
    "Consider a scenario at peak times where you might have a few orders to deliver but not enough vehicles. It might turn out that a solution that meets all delivery time window requirements is not feasible. In these cases, even though an optimal solution cannot be found, it might be a better strategy to allow a little deviation from our delivery time windows instead of leaving our customers without their orders. We can use <b>set_solution_scope</b> to soft time windows which will expand the route search to unfeasible regions. This feature is not available in the restricted version of NVIDIA cuOpt we are using for this demonstration.</p></details>\n"
   ]
  },
  {
   "cell_type": "code",
   "execution_count": 6,
   "id": "81a027d1",
   "metadata": {},
   "outputs": [],
   "source": [
    "def solver_settings_initialization(df):\n",
    "    my_solver_settings = routing.SolverSettings()\n",
    "\n",
    "    \n",
    "    # Set seconds update and climbers\n",
    "    my_solver_settings.set_time_limit(20)\n",
    "    my_solver_settings.set_number_of_climbers(2048)\n",
    "\n",
    "    return my_solver_settings"
   ]
  },
  {
   "cell_type": "markdown",
   "id": "45aa7347",
   "metadata": {},
   "source": [
    "### **Step 4: Call solve and get the routes**\n",
    "Now that you have fed NVIDIA cuOpt all your data and requirements, it's time to call for solve and let NVIDIA cuOpt find you your optimized routes!\n",
    "\n",
    "Once NVIDIA cuOpt has found your solution, you can view the various details of the route as well as the route itself.\n",
    "<b>get_cost</b> gives you the total cost of the final solution.\n",
    "<b>get_vehicle_count</b> returns the number of vehicles used in the optimal solution.\n",
    "And finally, to view routes you can use <b>get_routes</b> to get the route, vehicle ids for each stop and the arrival stamp in a Cuda Dataframe."
   ]
  },
  {
   "cell_type": "code",
   "execution_count": 7,
   "id": "972c3159",
   "metadata": {},
   "outputs": [],
   "source": [
    "def call_solve(my_data_model, my_solver_settings):\n",
    "    routing_solution = routing.Solve(my_data_model, my_solver_settings)\n",
    "    final_cost = routing_solution.get_cost()\n",
    "    vehicle_count = routing_solution.get_vehicle_count()\n",
    "    cu_status = routing_solution.get_status()\n",
    "    if cu_status != 0:\n",
    "        print(\"\"\"\n",
    "        --------------------------------------------------------------------------------------------------\n",
    "          !!!!!!!!!!!!        Failed: Solution within constraints could not be found     !!!!!!!!!!!!!!!!\n",
    "        -------------------------------------------------------------------------------------------------- \"\"\")\n",
    "    else:\n",
    "        print(\"Final Cost         : \", final_cost) \n",
    "        print(\"Number of Vehicles : \", vehicle_count)\n",
    "    return routing_solution"
   ]
  },
  {
   "cell_type": "markdown",
   "id": "3a78cf06",
   "metadata": {},
   "source": [
    "### **Bringing it together**\n",
    "Let's combine these 4 simple steps to make a function that launches NVIDIA cuOpt on our initial data"
   ]
  },
  {
   "cell_type": "code",
   "execution_count": 8,
   "id": "db43ee44",
   "metadata": {},
   "outputs": [],
   "source": [
    "# Run NVIDIA cuopt on given dataset, for number vehicles with particular capacity and vehicle_priorities.\n",
    "def run_cuopt(df, n_vehicles, vehicle_capacity, vehicle_priorities=[]):\n",
    "\n",
    "    nodes = df[\"demand\"].shape[0]\n",
    "\n",
    "    my_data_model = data_model_initialization(df, nodes, n_vehicles, vehicle_priorities, vehicle_capacity)\n",
    "\n",
    "    my_solver_settings =  solver_settings_initialization(df)\n",
    "\n",
    "    # Solve for routes and cost\n",
    "    routing_solution = call_solve(my_data_model, my_solver_settings)\n",
    "    \n",
    "    return routing_solution"
   ]
  },
  {
   "cell_type": "markdown",
   "id": "d8ee1673",
   "metadata": {
    "tags": []
   },
   "source": [
    "Looks like we are all set to see NVIDIA cuOpt in action!\n",
    "\n",
    "### **Solve on Gehring & Homeberger instance data**\n",
    "We have our Homeberger instance data read into a Cuda Dataframe. It specifies number of vehicles as 250 and Capacity as 200. So, let's try to find a solution for it with 250 vehicles each with capacity 200."
   ]
  },
  {
   "cell_type": "code",
   "execution_count": 9,
   "id": "64beb8c6",
   "metadata": {},
   "outputs": [
    {
     "name": "stdout",
     "output_type": "stream",
     "text": [
      "Final Cost         :  42792.84765625\n",
      "Number of Vehicles :  100\n",
      "\n",
      "------------------------------------------------------------------------------------\n",
      "                                     Routes\n",
      "------------------------------------------------------------------------------------\n",
      "\n"
     ]
    }
   ],
   "source": [
    "vehicle_capacity = cudf.Series([vehicle_capacity]*n_vehicles)\n",
    "solution = run_cuopt(df, n_vehicles, vehicle_capacity)\n",
    "print(\"\"\"\n",
    "------------------------------------------------------------------------------------\n",
    "                                     Routes\n",
    "------------------------------------------------------------------------------------\n",
    "\"\"\")\n",
    "#solution.display_routes()"
   ]
  },
  {
   "cell_type": "markdown",
   "id": "725f9027",
   "metadata": {},
   "source": [
    "NVIDIA cuOpt is able to provided a solution using 100 (best known solution) of the 250 available vehicles to service 1000 locations. This world class solution was provided by cuOpt in 20 seconds !"
   ]
  },
  {
   "cell_type": "markdown",
   "id": "a09ff4d9",
   "metadata": {},
   "source": [
    "### **Unfeasible solution case**\n",
    "Suppose we only have 70 vehicles each with capacity 200. \n",
    "We can observe that it is not possible to find a routing solution that satisfies the time and capacity constraints."
   ]
  },
  {
   "cell_type": "code",
   "execution_count": 10,
   "id": "61778057",
   "metadata": {},
   "outputs": [
    {
     "name": "stdout",
     "output_type": "stream",
     "text": [
      "\n",
      "Infeasible Solve.\n",
      "\n",
      "        --------------------------------------------------------------------------------------------------\n",
      "          !!!!!!!!!!!!        Failed: Solution within constraints could not be found     !!!!!!!!!!!!!!!!\n",
      "        -------------------------------------------------------------------------------------------------- \n"
     ]
    }
   ],
   "source": [
    "n_vehicles = 70\n",
    "vehicle_capacity = 200\n",
    "vehicle_capacity = [vehicle_capacity]*n_vehicles\n",
    "solution = run_cuopt(df, n_vehicles, vehicle_capacity)"
   ]
  },
  {
   "cell_type": "markdown",
   "id": "85128f07",
   "metadata": {},
   "source": [
    "### **Mixed Fleet and Priorities**\n",
    "![Image of Fleet](https://www.universeoptics.com/wp-content/uploads/commercial_vehicle.jpg)\n",
    "\n",
    "What if we have 130 more backup vehicles with capacity of 100 available to us.\n",
    "However, these should be used only when we have no more store vehicles. \n",
    "\n",
    "This can be done by initializing mixed fleet and setting priorities.                                             \n",
    "Store vehicles are set to have higher priorities (priority set to 0) than backup vehicles (priority set to 1)"
   ]
  },
  {
   "cell_type": "code",
   "execution_count": null,
   "id": "c0565821",
   "metadata": {},
   "outputs": [],
   "source": [
    "store_vehicles = 70\n",
    "store_vehicle_capacity = 200\n",
    "backup_vehicles = 130\n",
    "backup_vehicle_capacity = 100\n",
    "n_vehicles = store_vehicles + backup_vehicles\n",
    "vehicle_capacity = [store_vehicle_capacity]*store_vehicles + [backup_vehicle_capacity]*backup_vehicles\n",
    "vehicle_priorities = cudf.Series([0 for i in range(0, 70)] + [100 for i in range(70, 200)])\n",
    "\n",
    "# Run cuopt with mixed fleet and priorities\n",
    "solution = run_cuopt(df, n_vehicles, vehicle_capacity, vehicle_priorities)"
   ]
  },
  {
   "cell_type": "markdown",
   "id": "f5d7e6cd",
   "metadata": {},
   "source": [
    "You can observe in the resulting routes that all 70 store vehicles are used first."
   ]
  },
  {
   "cell_type": "code",
   "execution_count": null,
   "id": "40d52566",
   "metadata": {},
   "outputs": [],
   "source": [
    "\n",
    "print(\"\"\"\n",
    "------------------------------------------------------------------------------------\n",
    "                                     Routes\n",
    "------------------------------------------------------------------------------------\n",
    "\"\"\")\n",
    "solution.display_routes()"
   ]
  },
  {
   "cell_type": "markdown",
   "id": "be1468e6",
   "metadata": {},
   "source": [
    "\n",
    "\n",
    "# CONGRATULATIONS !\n",
    "You have completed the course.  For additional information on NVIDIA cuOpt consider joining the [NVIDIA cuOpt Early Access Program](https://developer.nvidia.com/cuopt-logistics-optimization/early-access-program)"
   ]
  },
  {
   "cell_type": "code",
   "execution_count": null,
   "id": "70f80ab9",
   "metadata": {},
   "outputs": [],
   "source": [
    "import IPython\n",
    "app = IPython.Application.instance()\n",
    "app.kernel.do_shutdown(True)"
   ]
  },
  {
   "cell_type": "markdown",
   "id": "039a1e3e-1ae6-45dd-9605-612cb940e8ac",
   "metadata": {},
   "source": [
    "<center><a href=\"https://www.nvidia.com/dli\"> <img src=\"images/DLI_Header.png\" alt=\"Header\" style=\"width: 400px;\"/> </a></center>"
   ]
  }
 ],
 "metadata": {
  "kernelspec": {
   "display_name": "Python 3 (ipykernel)",
   "language": "python",
   "name": "python3"
  },
  "language_info": {
   "codemirror_mode": {
    "name": "ipython",
    "version": 3
   },
   "file_extension": ".py",
   "mimetype": "text/x-python",
   "name": "python",
   "nbconvert_exporter": "python",
   "pygments_lexer": "ipython3",
   "version": "3.9.15"
  }
 },
 "nbformat": 4,
 "nbformat_minor": 5
}
