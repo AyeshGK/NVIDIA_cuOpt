{
 "cells": [
  {
   "cell_type": "markdown",
   "id": "cf36ef52",
   "metadata": {},
   "source": [
    "# <center><font color=#76B900 size=\"+3\"><b>**NVIDIA cuOpt Basics (TSP, VRP)**</b></font></center>\n",
    "---"
   ]
  },
  {
   "cell_type": "markdown",
   "id": "e49f1558",
   "metadata": {},
   "source": [
    "**Learning Objectives:**\n",
    "- Introduction to the cuOpt Python API\n",
    "- Modeling of a Traveling Salesman Problem (TSP)\n",
    "- Modeling of a Vehicle Routing Problem (VRP)\n",
    "- Introduction to constraints"
   ]
  },
  {
   "cell_type": "markdown",
   "id": "50cedc02",
   "metadata": {},
   "source": [
    "You have just started a new professional services company.  You have attracted a number of customers at various locations across the city and want to service these accounts as quickly as possible. In order to achieve this goal you want to minimize the time you spend traveling between locations (time spent not directly serving customers).  As the founder and sole employee it is your responsibility to service all of these accounts. \n",
    "\n",
    "This is a standard TSP problem:\n",
    "\n",
    "*Given a list of locations to visit and distance between each location, what is the shortest possible route that visits each location exactly once and returns to the origin/depot.*"
   ]
  },
  {
   "cell_type": "markdown",
   "id": "582be481",
   "metadata": {},
   "source": [
    "<centre><img src=https://upload.wikimedia.org/wikipedia/commons/thumb/1/11/GLPK_solution_of_a_travelling_salesman_problem.svg/220px-GLPK_solution_of_a_travelling_salesman_problem.svg.png> </centre>"
   ]
  },
  {
   "cell_type": "markdown",
   "id": "0f05934b",
   "metadata": {},
   "source": [
    "**Let's consider the following TSP problem:**\n",
    "- 8 Locations:\n",
    "    - 1 Depot (e.g. Office or Warehouse)\n",
    "    - 7 (Clients/Customer)\n",
    "- 1 Vehicle"
   ]
  },
  {
   "cell_type": "code",
   "execution_count": null,
   "id": "9c5018f1",
   "metadata": {},
   "outputs": [],
   "source": [
    "from cuopt import routing\n",
    "import cudf\n",
    "import pandas as pd\n",
    "from scipy.spatial import distance\n",
    "import helper_function.helper_map as helper_map"
   ]
  },
  {
   "cell_type": "markdown",
   "id": "76d12017",
   "metadata": {},
   "source": [
    "## Problem Definition"
   ]
  },
  {
   "cell_type": "code",
   "execution_count": null,
   "id": "2d2c0071",
   "metadata": {},
   "outputs": [],
   "source": [
    "location_names       = [ \"Depot\",   \"A\",    \"B\",    \"C\",    \"D\",    \"E\",    \"F\",    \"G\"  ]\n",
    "location_coordinates = [ [4, 4],    [1, 3], [8, 1], [2, 1], [6, 7], [0, 2], [7, 6], [5, 3] ]\n",
    "\n",
    "n_locations = len(location_coordinates)\n",
    "n_vehicles = 1\n",
    "\n",
    "location_coordinates_df = pd.DataFrame(location_coordinates, columns=['xcord', 'ycord'], index=location_names)\n",
    "\n",
    "location_coordinates_df"
   ]
  },
  {
   "cell_type": "markdown",
   "id": "f3f37054",
   "metadata": {},
   "source": [
    "### Visualize Depot and Destinations"
   ]
  },
  {
   "cell_type": "code",
   "execution_count": null,
   "id": "925ddf46",
   "metadata": {},
   "outputs": [],
   "source": [
    "helper_map.gen_plot(location_coordinates_df).show()"
   ]
  },
  {
   "cell_type": "markdown",
   "id": "31881901",
   "metadata": {},
   "source": [
    "The **cost matrix** models the cost between each pair of locations.  It is used by NVIDIA cuOpt to compute the cost of traveling from any location to any other.  Here we are going to specify that distance traveled is the cost we are looking to minimize. \n",
    "\n",
    "Let's create a distance based cost matrix (called `distance_matrix`)from the location coordinates dataframe, and let the distance between locations be measured by a `euclidean` metric. This will result in a symmetric distance matrix [ distance(A, B) == distance(B, A) ] which is an ideal case. However, in general NVIDIA cuOpt also supports asymmetric matrices which is especially useful when dealing with real-world problems."
   ]
  },
  {
   "cell_type": "code",
   "execution_count": null,
   "id": "af5077ee",
   "metadata": {},
   "outputs": [],
   "source": [
    "distance_matrix = distance.cdist(location_coordinates_df.values, location_coordinates_df.values, \"euclidean\")\n",
    "\n",
    "# Let's create a dataframe of this matrix\n",
    "distance_matrix  = cudf.DataFrame(distance_matrix, \n",
    "                                  index=location_coordinates_df.index, \n",
    "                                  columns=location_coordinates_df.index)\n",
    "\n",
    "distance_matrix"
   ]
  },
  {
   "cell_type": "markdown",
   "id": "0edf8f53",
   "metadata": {},
   "source": [
    "<br>\n",
    "\n",
    "## Create Data-Model\n",
    "---\n",
    "To create a basic Data model the following are required:\n",
    " - Number of locations \n",
    " - Number of vehicles in the fleet\n",
    " - Cost matrix"
   ]
  },
  {
   "cell_type": "code",
   "execution_count": null,
   "id": "1dd2c6ea",
   "metadata": {},
   "outputs": [],
   "source": [
    "data_model = routing.DataModel(n_locations, n_vehicles)\n",
    "data_model.add_cost_matrix(distance_matrix)"
   ]
  },
  {
   "cell_type": "markdown",
   "id": "e335143f",
   "metadata": {},
   "source": [
    "<br>\n",
    "\n",
    "## Create Solver Instance\n",
    "---\n",
    "The solver instance will take the data-model and return an optimized route plan. Additional configuration options are available to further customize solver behavior including: \n",
    "- The number of parallel agents (climbers) examining the solution search space\n",
    "- The maximum time allotted to find a solution\n",
    "- The minimum number of vehicles to be used\n",
    "- and more"
   ]
  },
  {
   "cell_type": "code",
   "execution_count": null,
   "id": "d1d34eab",
   "metadata": {},
   "outputs": [],
   "source": [
    "solver_settings_settings = routing.SolverSettings()\n",
    "# set number of climbers that will try to search for an optimal path parallely\n",
    "solver_settings_settings.set_number_of_climbers(64)\n",
    "# solver_settings will run for given time limit and it will fail if needs more time\n",
    "solver_settings_settings.set_time_limit(0.01)\n",
    "routing_solution = routing.Solve(data_model, solver_settings_settings)\n",
    "if routing_solution.get_status() == 0:\n",
    "    print(\"Solution Found\")\n",
    "else:\n",
    "    print(\"No Solution Found\")"
   ]
  },
  {
   "cell_type": "markdown",
   "id": "006699a1",
   "metadata": {},
   "source": [
    "<br>\n",
    "\n",
    "## TSP Results\n",
    "---"
   ]
  },
  {
   "cell_type": "code",
   "execution_count": null,
   "id": "66b44445",
   "metadata": {},
   "outputs": [],
   "source": [
    "if routing_solution.get_status() == 0:\n",
    "    print(\"Cost for the routing in distance: \", routing_solution.final_cost)\n",
    "    print(\"Vehicle count to complete routing: \", routing_solution.vehicle_count)\n",
    "    helper_map.show_vehicle_routes(routing_solution.route, location_names)\n",
    "    routing_solution.route\n",
    "else:\n",
    "    print(\"NVIDIA cuOpt Failed to find a solution with status : \", routing_solution.get_status())"
   ]
  },
  {
   "cell_type": "markdown",
   "id": "2126a385",
   "metadata": {},
   "source": [
    "### Visualize Route Plan"
   ]
  },
  {
   "cell_type": "code",
   "execution_count": null,
   "id": "b30f7977",
   "metadata": {},
   "outputs": [],
   "source": [
    "tsp_route_color = ['blue']\n",
    "helper_map.map_vehicle_routes(location_coordinates_df, routing_solution.route, tsp_route_color).show()"
   ]
  },
  {
   "cell_type": "markdown",
   "id": "bc062423",
   "metadata": {},
   "source": [
    "This illustrates the shortest path found by NVIDIA cuOpt to service all locations while minimizing the overall distance traveled."
   ]
  },
  {
   "cell_type": "markdown",
   "id": "647e9e22",
   "metadata": {},
   "source": [
    "\n",
    "\n",
    "# VRP\n",
    "---\n",
    "Congratulations, your customers are happy with the service you provide.  Naturally, this has led to increased demand for your service and you need to add additional staff to support this new demand.  You would like to understand the benefit of hiring 3 additional staff.\n",
    "\n",
    "This is similar to TSP, except here we will route an entire fleet of vehicles to optimally visit each location once and return to the depot.\n",
    "\n",
    "<centre><img src=https://upload.wikimedia.org/wikipedia/commons/2/2b/Figure_illustrating_the_vehicle_routing_problem.png> </centre>\n",
    "\n",
    "\n",
    "We can constrain the solver to leverage your expanded fleet by setting the minimum number of vehicles equal to our new fleet size (4 vehicles are now available)."
   ]
  },
  {
   "cell_type": "code",
   "execution_count": null,
   "id": "7c16c25e",
   "metadata": {},
   "outputs": [],
   "source": [
    "n_vehicles_expanded = 4\n",
    "vehicle_colors = [\"blue\", \"white\", \"green\", \"pink\"] # Used to identify differnt vehicle \n",
    "\n",
    "# create a new data model with the expanded fleet size\n",
    "data_model = routing.DataModel(n_locations, n_vehicles_expanded)\n",
    "data_model.add_cost_matrix(distance_matrix)\n",
    "data_model.set_min_vehicles(n_vehicles_expanded)\n",
    "\n",
    "\n",
    "# create a new solver_settings instance based on the revised data model\n",
    "solver_settings_settings = routing.SolverSettings()\n",
    "solver_settings_settings.set_number_of_climbers(64)\n",
    "solver_settings_settings.set_time_limit(0.01)\n",
    "\n",
    "\n",
    "routing_solution = routing.Solve(data_model, solver_settings_settings)\n",
    "\n",
    "if routing_solution.get_status() == 0:\n",
    "    print(\"Solution Found\")\n",
    "else:\n",
    "    print(\"No Solution Found\")"
   ]
  },
  {
   "cell_type": "markdown",
   "id": "6ca9d4d5",
   "metadata": {},
   "source": [
    "<br>\n",
    "\n",
    "## VRP Results\n",
    "---"
   ]
  },
  {
   "cell_type": "code",
   "execution_count": null,
   "id": "8922de0c",
   "metadata": {},
   "outputs": [],
   "source": [
    "if routing_solution.get_status() == 0:\n",
    "    print(\"Cost for the routing in distance: \", routing_solution.final_cost)\n",
    "    print(\"Vehicle count to complete routing: \", routing_solution.vehicle_count)\n",
    "    helper_map.show_vehicle_routes(routing_solution.route, location_names)\n",
    "    routing_solution.route\n",
    "else:\n",
    "    print(\"NVIDIA cuOpt Failed to find a solution with status : \", routing_solution.get_status())"
   ]
  },
  {
   "cell_type": "markdown",
   "id": "093352ae",
   "metadata": {},
   "source": [
    "### Visualize Route Plan"
   ]
  },
  {
   "cell_type": "code",
   "execution_count": null,
   "id": "e7308b4d",
   "metadata": {},
   "outputs": [],
   "source": [
    "helper_map.map_vehicle_routes(location_coordinates_df, routing_solution.route, vehicle_colors).show()"
   ]
  },
  {
   "cell_type": "markdown",
   "id": "13119c51",
   "metadata": {},
   "source": [
    "While this is an interesting solution, **it is perhaps not what we are looking for**.  We want to hire additional staff to distribute the workload. To achieve this, we can add a **constraint** on the maximum number of stops a given vehicle can perform depending on the number of stops and the number of available vehicles."
   ]
  },
  {
   "cell_type": "code",
   "execution_count": null,
   "id": "aa6edb2c",
   "metadata": {},
   "outputs": [],
   "source": [
    "data_model = routing.DataModel(n_locations, n_vehicles_expanded)\n",
    "data_model.add_cost_matrix(distance_matrix)\n",
    "data_model.set_min_vehicles(n_vehicles_expanded)\n",
    "\n",
    "# Here we add the constraint limit the number of stops a single vehicle can make\n",
    "stop_demand_per_location = cudf.Series([0] + [1 for _ in range(n_locations-1)])\n",
    "stops_per_vehicle = cudf.Series([n_locations//n_vehicles_expanded for _ in range(n_vehicles_expanded)])\n",
    "data_model.add_capacity_dimension(\"Number_of_Stops\", stop_demand_per_location, stops_per_vehicle)\n",
    "\n",
    "print(\"stop_demand_per_location: \",stop_demand_per_location.to_arrow().to_pylist()) \n",
    "print(\"stops_per_vehicle: \", stops_per_vehicle.to_arrow().to_pylist())\n",
    "\n",
    "# create a new solver_settings instance based on the revised data model\n",
    "solver_settings_settings = routing.SolverSettings()\n",
    "solver_settings_settings.set_number_of_climbers(64)\n",
    "solver_settings_settings.set_time_limit(0.01)\n",
    "\n",
    "routing_solution = routing.Solve(data_model, solver_settings_settings)\n",
    "    \n",
    "    \n",
    "if routing_solution.get_status() == 0:\n",
    "    print(\"\\nSolution Found\")\n",
    "    print(\"Cost for the routing in distance: \", routing_solution.final_cost)\n",
    "    print(\"Vehicle count to complete routing: \", routing_solution.vehicle_count)\n",
    "    helper_map.show_vehicle_routes(routing_solution.route, location_names)\n",
    "    routing_solution.route\n",
    "else:\n",
    "    print(\"NVIDIA cuOpt Failed to find a solution with status : \", routing_solution.get_status())"
   ]
  },
  {
   "cell_type": "markdown",
   "id": "d90ae907",
   "metadata": {},
   "source": [
    "### Visualize the New Route Plan"
   ]
  },
  {
   "cell_type": "code",
   "execution_count": null,
   "id": "0e958f96",
   "metadata": {},
   "outputs": [],
   "source": [
    "helper_map.map_vehicle_routes(location_coordinates_df, routing_solution.route, vehicle_colors).show()"
   ]
  },
  {
   "cell_type": "markdown",
   "id": "9bfe76e9",
   "metadata": {},
   "source": [
    "We now have the shortest solution where the work load is more evenly distributed among available vehicles"
   ]
  },
  {
   "cell_type": "markdown",
   "id": "179ffca6",
   "metadata": {},
   "source": [
    "## Dynamic Re-optimization"
   ]
  },
  {
   "cell_type": "markdown",
   "id": "a7335396",
   "metadata": {},
   "source": [
    "You decide to go ahead with adding additional staff. On a particular day, 1 of your new staff members calls in sick.  We can quickly generate a new routing solution accounting for the reduced staff."
   ]
  },
  {
   "cell_type": "code",
   "execution_count": null,
   "id": "df8f24f7",
   "metadata": {},
   "outputs": [],
   "source": [
    "reduced_staff = n_vehicles_expanded-1\n",
    "data_model = routing.DataModel(n_locations, reduced_staff)\n",
    "data_model.add_cost_matrix(distance_matrix)\n",
    "\n",
    "# Here we add the constraint limit the number of stops a single vehicle can make\n",
    "stop_demand_per_location = cudf.Series([0] + [1 for _ in range(n_locations-1)])\n",
    "stops_per_vehicle = cudf.Series([(n_locations//reduced_staff)+1 for _ in range(reduced_staff)])\n",
    "data_model.add_capacity_dimension(\"Number_of_Stops\", stop_demand_per_location, stops_per_vehicle)\n",
    "data_model.set_min_vehicles(reduced_staff)\n",
    "print(\"stop_demand_per_location: \",stop_demand_per_location.to_arrow().to_pylist()) \n",
    "print(\"stops_per_vehicle: \", stops_per_vehicle.to_arrow().to_pylist())\n",
    "\n",
    "# create a new solver_settings instance based on the revised data model\n",
    "solver_settings_settings = routing.SolverSettings()\n",
    "solver_settings_settings.set_number_of_climbers(64)\n",
    "solver_settings_settings.set_time_limit(0.01)\n",
    "\n",
    "routing_solution = routing.Solve(data_model, solver_settings_settings)    \n",
    "    \n",
    "if routing_solution.get_status() == 0:\n",
    "    print(\"\\nSolution Found\")\n",
    "    print(\"Cost for the routing in distance: \", routing_solution.final_cost)\n",
    "    print(\"Vehicle count to complete routing: \", routing_solution.vehicle_count)\n",
    "    helper_map.show_vehicle_routes(routing_solution.route, location_names)\n",
    "    routing_solution.route\n",
    "else:\n",
    "    print(\"NVIDIA cuOpt Failed to find a solution with status : \", routing_solution.get_status())\n",
    "    \n",
    "helper_map.map_vehicle_routes(location_coordinates_df, routing_solution.route, vehicle_colors).show()"
   ]
  },
  {
   "cell_type": "markdown",
   "id": "7bf18e73",
   "metadata": {},
   "source": [
    "Though shown here on a toy problem instance for clarity, the ability to respond to the dynamic nature of real world problems is perhaps the key feature of NVIDIA cuOpt and is a benefit that scales to problems with 1000s of locations and complex constraints. The true potential NVIDIA cuOpt speed and accuracy can be observed in the [optional notebook](./05_cvrptw_homberger_cuopt.ipynb) where we examine the performance of NVIDIA cuOpt on the largest instance size currently available in a public benchmark."
   ]
  },
  {
   "cell_type": "code",
   "execution_count": null,
   "id": "f3236b6d",
   "metadata": {},
   "outputs": [],
   "source": [
    "import IPython\n",
    "app = IPython.Application.instance()\n",
    "app.kernel.do_shutdown(True)"
   ]
  },
  {
   "cell_type": "markdown",
   "id": "69b41308",
   "metadata": {},
   "source": [
    "## What's Next?\n",
    "\n",
    "Add more real-world constraints including:\n",
    "- **Vehicles with limited capacity**\n",
    "- **Deliveries expected in particular time windows**\n",
    "- **Multiple deliveries to same location**\n",
    "- **Vehicle availability** \n",
    "\n",
    "\n",
    "#### Lets try **CVRPTW** next, [please click to continue](./03_cvrptw_cuopt.ipynb)"
   ]
  },
  {
   "cell_type": "markdown",
   "id": "fabcb013-e8fb-4250-81f6-3aee20852e95",
   "metadata": {},
   "source": [
    "<center><a href=\"https://www.nvidia.com/dli\"> <img src=\"images/DLI_Header.png\" alt=\"Header\" style=\"width: 400px;\"/> </a></center>"
   ]
  }
 ],
 "metadata": {
  "kernelspec": {
   "display_name": "Python 3 (ipykernel)",
   "language": "python",
   "name": "python3"
  },
  "language_info": {
   "codemirror_mode": {
    "name": "ipython",
    "version": 3
   },
   "file_extension": ".py",
   "mimetype": "text/x-python",
   "name": "python",
   "nbconvert_exporter": "python",
   "pygments_lexer": "ipython3",
   "version": "3.8.13"
  }
 },
 "nbformat": 4,
 "nbformat_minor": 5
}
