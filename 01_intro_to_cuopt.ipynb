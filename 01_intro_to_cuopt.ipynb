{
 "cells": [
  {
   "cell_type": "markdown",
   "id": "1a28513b",
   "metadata": {},
   "source": [
    "# <center><font color=#76B900><b>**NVIDIA cuOpt**</b></font></center>\n",
    "## <center><b>**Fast, Accurate, and Scalable Route Optimization**</b></font></center>\n",
    "---"
   ]
  },
  {
   "cell_type": "markdown",
   "id": "5d32cd32",
   "metadata": {},
   "source": [
    "**Learning Objectives:**\n",
    "- A text based introduction to NVIDIA cuOpt"
   ]
  },
  {
   "cell_type": "markdown",
   "id": "ed535ed3",
   "metadata": {},
   "source": [
    "**NVIDIA cuOpt** is an multi-agent, multi-constraint optimization SDK for operations research focused on vehicle routing. NVIDIA cuOpt empowers developers to leverage larger data sets and faster processing, delivering new capabilities like dynamic rerouting, simulations, and sub-second solver response time for last-mile delivery, supply chain, warehouse picking, food delivery, and more.\n",
    "\n",
    "<br>The logistics industry is a highly integrated supply chain network that links producers and consumers through multiple transportation modes, including air and express delivery services, freight rail, maritime transport, and truck transport. Delivering goods directly to a customer’s door, called last-mile delivery, has been a costly challenge even before the COVID-19 pandemic disrupted logistics causing millions of consumers to switch to shopping online.\n",
    "\n",
    "<centre> <img src=https://raw.githubusercontent.com/rgsl888prabhu/Images/master/cuOpt_map_transparent.png width=800> </centre>\n",
    "\n",
    "NVIDIA cuOpt excels at solving many well known routing optimization problems. The simplest of these is the well known **[Traveling Salesman Problem (TSP)](https://en.wikipedia.org/wiki/Travelling_salesman_problem)**. Extending TSP to accommodate a fleet of vehicles, the problem becomes a **[Vehicle Routing Problem (VRP)](https://en.wikipedia.org/wiki/Vehicle_routing_problem)**, and the addition of further constraints leads to other popular variants including:\n",
    "\n",
    "- **Capacitated Vehicle Routing Problem (CVRP):** Vehicles have a limited carrying capacity of the goods that must be delivered.\n",
    "- **Vehicle Routing Problem with Time Windows (VRPTW):** A fleet of vehicles must visit each location within a specified time window.\n",
    "- **Capacitated Vehicle Routing Problem with Time Windows (CVRPTW):** Vehicles have a limited carrying capacity of the goods that must be delivered within specified time windows.\n",
    "\n",
    "Since TSP, VRP, and its variants are NP-hard problems, as the problem grows in complexity or scale, solving these instances on CPU alone becomes time consuming, sub-optimal, and costly. NVIDIA cuOpt leverages NVIDIA accelerated computing and parallel heuristics to generate high quality solutions in a fraction of the time needed by the CPU alone. This speedup means that optimization problems can be run much closer to decision time capturing a more realistic view of the problem, and in most cases can be run in real time to support highly dynamic environments."
   ]
  },
  {
   "cell_type": "markdown",
   "id": "02d1e1d7",
   "metadata": {},
   "source": [
    "<center> <img src=https://raw.githubusercontent.com/rgsl888prabhu/Images/master/new_soft_stack.png width=400> </center>"
   ]
  },
  {
   "cell_type": "markdown",
   "id": "6b02cd64",
   "metadata": {},
   "source": [
    "NVIDIA cuOpt is a CUDA accelerated C++ library and can be used as such. However, NVIDIA cuOpt is also made available via a python API and as a standalone containerized server.\n",
    "\n",
    "In this course we will examine the NVIDIA cuOpt python API to demonstrate how easily you can model the various problems described above, along with optional exercises to test your understanding.\n",
    "\n",
    "#### Let's start with a simple TSP problem [Click here to continue](./02_tsp_vrp_cuopt.ipynb)."
   ]
  },
  {
   "cell_type": "code",
   "execution_count": 1,
   "id": "67ad3f00",
   "metadata": {},
   "outputs": [
    {
     "data": {
      "text/plain": [
       "{'status': 'ok', 'restart': True}"
      ]
     },
     "execution_count": 1,
     "metadata": {},
     "output_type": "execute_result"
    }
   ],
   "source": [
    "import IPython\n",
    "app = IPython.Application.instance()\n",
    "app.kernel.do_shutdown(True)"
   ]
  },
  {
   "cell_type": "markdown",
   "id": "e49147aa",
   "metadata": {},
   "source": [
    "<br>\n",
    "\n",
    "**NOTE**: Please apply for [NVIDIA cuOpt EA program](https://developer.nvidia.com/cuopt-logistics-optimization/early-access-program) for additional information"
   ]
  },
  {
   "cell_type": "markdown",
   "id": "3d9287f5-ca20-4cae-ac43-b4624c9d0823",
   "metadata": {},
   "source": [
    "<center><a href=\"https://www.nvidia.com/dli\"> <img src=\"images/DLI_Header.png\" alt=\"Header\" style=\"width: 400px;\"/> </a></center>"
   ]
  }
 ],
 "metadata": {
  "kernelspec": {
   "display_name": "Python 3 (ipykernel)",
   "language": "python",
   "name": "python3"
  },
  "language_info": {
   "codemirror_mode": {
    "name": "ipython",
    "version": 3
   },
   "file_extension": ".py",
   "mimetype": "text/x-python",
   "name": "python",
   "nbconvert_exporter": "python",
   "pygments_lexer": "ipython3",
   "version": "3.9.15"
  }
 },
 "nbformat": 4,
 "nbformat_minor": 5
}
