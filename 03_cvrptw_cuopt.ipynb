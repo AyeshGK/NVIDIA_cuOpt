{
 "cells": [
  {
   "cell_type": "markdown",
   "id": "04530af0",
   "metadata": {},
   "source": [
    "# <center><font color=#76B900 size=\"+3\"><b>**Running NVIDIA cuOpt with additional constraints (CVRPTW)**</b></font></center>\n",
    "---"
   ]
  },
  {
   "cell_type": "markdown",
   "id": "94ba36a9",
   "metadata": {},
   "source": [
    "**Learning Objectives:**\n",
    "- Modeling of a Capacitated Vehicle Routing Problem with Time Windows (CVRPTW)\n",
    "- Introduction to more advanced real world constraints"
   ]
  },
  {
   "cell_type": "markdown",
   "id": "c2032e1e",
   "metadata": {},
   "source": [
    "Your company has expanded beyond professional services and now also delivers and installs hardware on-site.  From all your experience you are now able to accurately estimate how much time a given job will take and want to give each customer an opportunity to specify time windows during which they will be available. In addition to the benefits for your customers, you also want to allow for some flexibility as to when each employee is available to work.\n",
    "<br>\n",
    "<center><img src=https://raw.githubusercontent.com/rgsl888prabhu/Images/master/nvidia_reopt_route.png width=600> </center>"
   ]
  },
  {
   "cell_type": "markdown",
   "id": "57c55eb4",
   "metadata": {},
   "source": [
    "**The company is now dealing with the following CVRPTW problem:**\n",
    "- 8 Locations:\n",
    "    - 1 Depot (e.g. Office or Warehouse)\n",
    "    - 7 (Clients/Customer)\n",
    "- 5 Vehicles in the Fleet\n",
    "- Each vehicle has associated capacities\n",
    "- Each location has a specific time window within which services/deliveries need to be performed\n",
    "- Demand for hardware may differ across locations\n",
    "- Each vehicle has a time window of its availability"
   ]
  },
  {
   "cell_type": "code",
   "execution_count": null,
   "id": "abab5f67",
   "metadata": {},
   "outputs": [],
   "source": [
    "from cuopt import routing\n",
    "import cudf\n",
    "import pandas as pd\n",
    "from scipy.spatial import distance\n",
    "import helper_function.helper_map as helper_map"
   ]
  },
  {
   "cell_type": "markdown",
   "id": "24a7cf50",
   "metadata": {},
   "source": [
    "## Problem Definition"
   ]
  },
  {
   "cell_type": "code",
   "execution_count": null,
   "id": "295c61e3",
   "metadata": {},
   "outputs": [],
   "source": [
    "location_names       = [ \"Depot\",   \"A\",    \"B\",    \"C\",    \"D\",    \"E\",    \"F\",    \"G\"  ]\n",
    "location_coordinates = [ [4, 4],   [1, 3], [8, 1], [2, 1], [6, 7], [0, 2], [7, 6], [5, 3]]\n",
    "\n",
    "# Units of hardware to be delivered at each location, this can be number of orders, weight or volume.\n",
    "orders               = [   0,        3,      4,      4,      3,      4,      3,      2   ]\n",
    "# Earliest a delivery can be made\n",
    "l_tw_earliest        = [   0,        3,      5,      3,      1,      8,      4,      0   ]\n",
    "# Latest a delivery can be made\n",
    "l_tw_latest          = [1000,       20,     30,     15,     20,     12,     40,     30   ]\n",
    "# Service time required for the delivery/service\n",
    "l_tw_service         = [   0,         1,     1,      1,       1,     2,      3,      1   ]\n",
    "n_locations           = len(location_coordinates)\n",
    "n_vehicles           = 5\n",
    "# Number of orders each vehicle can carry, this can be number of orders, weight or volumne\n",
    "vehicle_capacity     = [5,  7,  5,  8,  6]\n",
    "# Earliest a vehicle can start \n",
    "v_tw_earliest        = [0,  1,  3,  5,  20]\n",
    "# Latest a vehicle will be working\n",
    "v_tw_latest          = [80, 40, 30, 80, 100]\n",
    "\n",
    "vehicle_colors       = [\"blue\", \"white\", \"green\", \"pink\", \"yellow\"] # Used to identify differnt vehicle \n",
    "\n",
    "location_coordinates_df = pd.DataFrame(location_coordinates, columns=['xcord', 'ycord'], index=location_names)\n",
    "\n",
    "location_coordinates_df"
   ]
  },
  {
   "cell_type": "markdown",
   "id": "d9aa859d",
   "metadata": {},
   "source": [
    "### Visualize Depot and Destinations"
   ]
  },
  {
   "cell_type": "code",
   "execution_count": null,
   "id": "de5dcde4",
   "metadata": {},
   "outputs": [],
   "source": [
    "helper_map.gen_plot(location_coordinates_df).show()"
   ]
  },
  {
   "cell_type": "markdown",
   "id": "9086578e",
   "metadata": {},
   "source": [
    "The **cost matrix** models the cost between each pair of locations.  It is used by NVIDIA cuOpt to compute the cost of traveling from any location to any other.  Here we are going to specify that distance traveled is the cost we are looking to minimize. \n",
    "\n",
    "Let's create a distance based cost matrix (called `distance_matrix`)from the location coordinates dataframe, and let the distance between locations be measured by a `euclidean` metric. This will result in a symmetric distance matrix [ distance(A, B) == distance(B, A) ] which is an ideal case. However, in general NVIDIA cuOpt also supports asymmetric matrices which is especially useful when dealing with real-world problems."
   ]
  },
  {
   "cell_type": "code",
   "execution_count": null,
   "id": "dfd1ce93",
   "metadata": {},
   "outputs": [],
   "source": [
    "distance_matrix = distance.cdist(location_coordinates_df.values, location_coordinates_df.values, \"euclidean\")\n",
    "\n",
    "# Let's create a dataframe of this matrix\n",
    "distance_matrix  = cudf.DataFrame(distance_matrix, index=location_coordinates_df.index, columns=location_coordinates_df.index)\n",
    "for ar in distance_matrix.values:\n",
    "    print([round(i.item(),1) for i in ar])"
   ]
  },
  {
   "cell_type": "markdown",
   "id": "a5afab5c",
   "metadata": {},
   "source": [
    "<br>\n",
    "\n",
    "## Create Data-Model\n",
    "---\n",
    "Create a Data model with the following:\n",
    " - Number of locations\n",
    " - Number of vehicles in the fleet\n",
    " - Cost matrix\n",
    " - Location time windows\n",
    " - Vehicle time windows\n",
    " - Vehicle capacities\n",
    " - Variable demand across locations"
   ]
  },
  {
   "cell_type": "code",
   "execution_count": null,
   "id": "394f7b61",
   "metadata": {},
   "outputs": [],
   "source": [
    "data_model = routing.DataModel(n_locations, n_vehicles)\n",
    "data_model.add_cost_matrix(distance_matrix)\n",
    "data_model.add_capacity_dimension(\n",
    "    \"hardware_demand\",\n",
    "    cudf.Series(orders),\n",
    "    cudf.Series(vehicle_capacity)\n",
    ")\n",
    "data_model.set_order_time_windows(\n",
    "    cudf.Series(l_tw_earliest),\n",
    "    cudf.Series(l_tw_latest), \n",
    ")\n",
    "\n",
    "data_model.set_order_service_times(\n",
    "    cudf.Series(l_tw_service)\n",
    ")\n",
    "\n",
    "data_model.set_vehicle_time_windows(\n",
    "    cudf.Series(v_tw_earliest), \n",
    "    cudf.Series(v_tw_latest)\n",
    ")\n"
   ]
  },
  {
   "cell_type": "markdown",
   "id": "ff51f419",
   "metadata": {},
   "source": [
    "<br>\n",
    "\n",
    "## Create Solver Instance\n",
    "---\n",
    "The solver instance will take the data-model and return an optimized route plan. Additional configuration options are available to further customize solver behavior including: \n",
    "- The number of parallel agents (climbers) examining the solution search space\n",
    "- The maximum time allotted to find a solution\n",
    "- The minimum number of vehicles to be used\n",
    "- and more"
   ]
  },
  {
   "cell_type": "code",
   "execution_count": null,
   "id": "04788913",
   "metadata": {},
   "outputs": [],
   "source": [
    "solver_settings = routing.SolverSettings()\n",
    "# set number of climbers that will try to search for an optimal path parallely\n",
    "solver_settings.set_number_of_climbers(64)\n",
    "# solver will run for given time limit and it will fail if needs more time\n",
    "solver_settings.set_time_limit(0.01)\n",
    "# Set minimum number of vehciles that need to be used to compute results\n",
    "# solver.set_min_vehicles(5)\n",
    "routing_solution = routing.Solve(data_model, solver_settings)\n",
    "if routing_solution.get_status() == 0:\n",
    "    print(\"Solution Found\")\n",
    "else:\n",
    "    print(\"No Solution Found\")"
   ]
  },
  {
   "cell_type": "markdown",
   "id": "fca1068e",
   "metadata": {},
   "source": [
    "<br>\n",
    "\n",
    "## CVRPTW Results\n",
    "---"
   ]
  },
  {
   "cell_type": "code",
   "execution_count": null,
   "id": "b1bd33ee",
   "metadata": {},
   "outputs": [],
   "source": [
    "if routing_solution.get_status() == 0:\n",
    "    print(\"Cost for the routing in distance: \", routing_solution.final_cost)\n",
    "    print(\"Vehicle count to complete routing: \", routing_solution.vehicle_count)\n",
    "    helper_map.show_vehicle_routes(routing_solution.route, location_names)\n",
    "    routing_solution.route\n",
    "else:\n",
    "    print(\"NVIDIA cuOpt Failed to find a solution with status : \", routing_solution.get_status())"
   ]
  },
  {
   "cell_type": "code",
   "execution_count": null,
   "id": "2b9c517e",
   "metadata": {},
   "outputs": [],
   "source": [
    "helper_map.map_vehicle_routes(location_coordinates_df, routing_solution.route, vehicle_colors).show()"
   ]
  },
  {
   "cell_type": "markdown",
   "id": "3341e681",
   "metadata": {},
   "source": [
    "**NOTE:** Because we did not specify that NVIDIA cuOpt should use the entire fleet of 5 vehicles, the solution that was returned was for 4 vehicles.  By default, NVIDIA cuOpt seeks to minimize the number of vehicles used if possible as that is typically the largest expense in these types of problems.  You can uncomment the `min_vehicle` constraint if you wish to see the 5 vehicle solution."
   ]
  },
  {
   "cell_type": "code",
   "execution_count": null,
   "id": "f4852f5a",
   "metadata": {},
   "outputs": [],
   "source": [
    "import IPython\n",
    "app = IPython.Application.instance()\n",
    "app.kernel.do_shutdown(True)"
   ]
  },
  {
   "cell_type": "markdown",
   "id": "5f54ac26",
   "metadata": {},
   "source": [
    "\n",
    "## What's Next?\n",
    "\n",
    "#### A short `CVRPTW` exercise to get more familiar with Nvidia cuOpt. [please click to continue](./04_cvrptw_exercise_cuopt.ipynb) "
   ]
  },
  {
   "cell_type": "markdown",
   "id": "08ca33eb-f2b1-4a72-a4ae-449ffd5c445d",
   "metadata": {},
   "source": [
    "<center><a href=\"https://www.nvidia.com/dli\"> <img src=\"images/DLI_Header.png\" alt=\"Header\" style=\"width: 400px;\"/> </a></center>"
   ]
  }
 ],
 "metadata": {
  "kernelspec": {
   "display_name": "Python 3 (ipykernel)",
   "language": "python",
   "name": "python3"
  },
  "language_info": {
   "codemirror_mode": {
    "name": "ipython",
    "version": 3
   },
   "file_extension": ".py",
   "mimetype": "text/x-python",
   "name": "python",
   "nbconvert_exporter": "python",
   "pygments_lexer": "ipython3",
   "version": "3.9.15"
  }
 },
 "nbformat": 4,
 "nbformat_minor": 5
}
